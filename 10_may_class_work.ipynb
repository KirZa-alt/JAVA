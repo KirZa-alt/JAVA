{
  "nbformat": 4,
  "nbformat_minor": 0,
  "metadata": {
    "colab": {
      "provenance": [],
      "authorship_tag": "ABX9TyMnr283b/oMm2Tb7/QaoSFW",
      "include_colab_link": true
    },
    "kernelspec": {
      "name": "python3",
      "display_name": "Python 3"
    },
    "language_info": {
      "name": "python"
    }
  },
  "cells": [
    {
      "cell_type": "markdown",
      "metadata": {
        "id": "view-in-github",
        "colab_type": "text"
      },
      "source": [
        "<a href=\"https://colab.research.google.com/github/KirZa-alt/JAVA/blob/main/10_may_class_work.ipynb\" target=\"_parent\"><img src=\"https://colab.research.google.com/assets/colab-badge.svg\" alt=\"Open In Colab\"/></a>"
      ]
    },
    {
      "cell_type": "code",
      "execution_count": null,
      "metadata": {
        "id": "1nQehpeH8C4v"
      },
      "outputs": [],
      "source": [
        "# comprehension\n",
        "# 3 to 4 line code in single line"
      ]
    },
    {
      "cell_type": "code",
      "source": [
        "square_list=[i**2 for i in range(10)]\n",
        "print(square_list)\n",
        "# list comprehension\n",
        "# loop in end and loop work on start"
      ],
      "metadata": {
        "colab": {
          "base_uri": "https://localhost:8080/"
        },
        "id": "TJCjEQcS8c_7",
        "outputId": "d8122cf3-f0dd-4fe9-9dcb-70337062b375"
      },
      "execution_count": 4,
      "outputs": [
        {
          "output_type": "stream",
          "name": "stdout",
          "text": [
            "[0, 1, 4, 9, 16, 25, 36, 49, 64, 81]\n"
          ]
        }
      ]
    },
    {
      "cell_type": "code",
      "source": [
        "num=4\n",
        "even=True if num%2==0 else False\n",
        "print(even)"
      ],
      "metadata": {
        "colab": {
          "base_uri": "https://localhost:8080/"
        },
        "id": "mNO85Qe-89Zm",
        "outputId": "65f2be90-71e3-4452-e68e-b6127953705e"
      },
      "execution_count": 7,
      "outputs": [
        {
          "output_type": "stream",
          "name": "stdout",
          "text": [
            "True\n"
          ]
        }
      ]
    },
    {
      "cell_type": "code",
      "source": [
        "dic = {i: i**2 for i in range(10)}\n",
        "print(dic)"
      ],
      "metadata": {
        "colab": {
          "base_uri": "https://localhost:8080/"
        },
        "id": "Y42WQD_L9s2j",
        "outputId": "898842d0-2d64-43e4-c223-ed94ebaa5cfc"
      },
      "execution_count": 17,
      "outputs": [
        {
          "output_type": "stream",
          "name": "stdout",
          "text": [
            "{0: 0, 1: 1, 2: 4, 3: 9, 4: 16, 5: 25, 6: 36, 7: 49, 8: 64, 9: 81}\n"
          ]
        }
      ]
    },
    {
      "cell_type": "code",
      "source": [
        "# functions\n",
        "# 1- user defined\n",
        "# 2- builtin\n",
        "# indentification of functions is round brackets(paranthesis)\n",
        "# define functios def\n",
        "# body define\n",
        "# 1-return\n",
        "# 2-not return\n",
        "# calling function is important.\n",
        "# return can be any type\n",
        "# take input (argument)\n",
        "# return is exit of function"
      ],
      "metadata": {
        "id": "CghyuAqz-WuP"
      },
      "execution_count": 18,
      "outputs": []
    },
    {
      "cell_type": "code",
      "source": [
        "def sq_function():\n",
        "    sq=[]\n",
        "    for j in range(10):\n",
        "        sq.append(j**2)\n",
        "    return sq\n",
        "lists=sq_function()\n",
        "print(lists)"
      ],
      "metadata": {
        "colab": {
          "base_uri": "https://localhost:8080/"
        },
        "id": "wK5deEbsBmgp",
        "outputId": "ce5a82d9-0895-4c25-9d21-c79efbdb6913"
      },
      "execution_count": 25,
      "outputs": [
        {
          "output_type": "stream",
          "name": "stdout",
          "text": [
            "[0, 1, 4, 9, 16, 25, 36, 49, 64, 81]\n"
          ]
        }
      ]
    },
    {
      "cell_type": "code",
      "source": [
        "# no input\n",
        "# no output\n",
        "# no input return output\n",
        "# pass input not output\n",
        "# out put and input"
      ],
      "metadata": {
        "id": "sepLvzM9CbnZ"
      },
      "execution_count": null,
      "outputs": []
    },
    {
      "cell_type": "code",
      "source": [
        "def sq_function():\n",
        "    print(\"function is calling\")\n",
        "(sq_function())"
      ],
      "metadata": {
        "colab": {
          "base_uri": "https://localhost:8080/"
        },
        "id": "S4KAqIiYEf0A",
        "outputId": "4e009a28-2ea7-446c-d1b6-7ca2ecc2be3a"
      },
      "execution_count": 40,
      "outputs": [
        {
          "output_type": "stream",
          "name": "stdout",
          "text": [
            "function is calling\n"
          ]
        }
      ]
    },
    {
      "cell_type": "code",
      "source": [
        "def sq_function_name(names):\n",
        "    print(\"hello\",names)\n",
        "sq_function_name(\"kiran\")\n",
        "names=input(\"enter name\")\n",
        "sq_function_name(names)\n",
        "# benifit of function"
      ],
      "metadata": {
        "colab": {
          "base_uri": "https://localhost:8080/"
        },
        "id": "Wm4HIxsfEmIi",
        "outputId": "4ddb46cd-ad64-41a3-e0e5-9261c3715492"
      },
      "execution_count": 59,
      "outputs": [
        {
          "output_type": "stream",
          "name": "stdout",
          "text": [
            "hello kiran\n",
            "enter nameki\n",
            "hello ki\n"
          ]
        }
      ]
    },
    {
      "cell_type": "code",
      "source": [
        "# argument is of 2 types\n",
        "# positional\n",
        "# keyword"
      ],
      "metadata": {
        "id": "jCm5TqMnGlhW"
      },
      "execution_count": null,
      "outputs": []
    },
    {
      "cell_type": "code",
      "source": [
        "def sq_function_name(names=\"kiran\"):\n",
        "    print(\"hello\",names)\n",
        "sq_function_name(\"aqsa\")\n",
        "sq_function_name()"
      ],
      "metadata": {
        "colab": {
          "base_uri": "https://localhost:8080/"
        },
        "id": "VS0013q7J_g_",
        "outputId": "00088b10-44f7-4630-825d-82c3087bfa0a"
      },
      "execution_count": 65,
      "outputs": [
        {
          "output_type": "stream",
          "name": "stdout",
          "text": [
            "hello aqsa\n",
            "hello kiran\n"
          ]
        }
      ]
    },
    {
      "cell_type": "code",
      "source": [
        "\n",
        "def add(num1,num2):\n",
        "    print(\"hello\",1+2)\n",
        "    return\n",
        "add(1,2)"
      ],
      "metadata": {
        "colab": {
          "base_uri": "https://localhost:8080/"
        },
        "id": "HHjpleqIKK_w",
        "outputId": "cb3023f0-716e-4ee5-86ea-dc62c384ce33"
      },
      "execution_count": 71,
      "outputs": [
        {
          "output_type": "stream",
          "name": "stdout",
          "text": [
            "hello 3\n"
          ]
        }
      ]
    },
    {
      "cell_type": "code",
      "source": [
        "def add(num1=1,num2=2):\n",
        "    return num1+num2\n",
        "add()"
      ],
      "metadata": {
        "colab": {
          "base_uri": "https://localhost:8080/"
        },
        "id": "AOWO_lpCK6PV",
        "outputId": "a63e3770-b027-47a8-f936-6571ec4cdb7a"
      },
      "execution_count": 82,
      "outputs": [
        {
          "output_type": "execute_result",
          "data": {
            "text/plain": [
              "3"
            ]
          },
          "metadata": {},
          "execution_count": 82
        }
      ]
    },
    {
      "cell_type": "code",
      "source": [
        "def even(a):\n",
        "    if a%2==0:\n",
        "        print(\"true\")\n",
        "    else:\n",
        "        print(\"false\")\n",
        "even(4)"
      ],
      "metadata": {
        "colab": {
          "base_uri": "https://localhost:8080/"
        },
        "id": "So8Zxw72LNyn",
        "outputId": "dc404161-d4e8-4bbc-ac81-dfec587d6412"
      },
      "execution_count": 88,
      "outputs": [
        {
          "output_type": "stream",
          "name": "stdout",
          "text": [
            "true\n"
          ]
        }
      ]
    },
    {
      "cell_type": "code",
      "source": [],
      "metadata": {
        "id": "tb6qozMTOPXM"
      },
      "execution_count": 90,
      "outputs": []
    }
  ]
}